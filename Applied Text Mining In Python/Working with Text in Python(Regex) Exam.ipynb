{
 "cells": [
  {
   "cell_type": "markdown",
   "metadata": {
    "deletable": false,
    "editable": false,
    "nbgrader": {
     "cell_type": "markdown",
     "checksum": "cacf7f4360d6d53c622742f64048f72c",
     "grade": false,
     "grade_id": "cell-8a754c8ce8a16eeb",
     "locked": true,
     "schema_version": 3,
     "solution": false,
     "task": false
    },
    "tags": []
   },
   "source": [
    "# Assignment 1\n",
    "\n",
    "In this assignment, you'll be working with messy medical data and using regex to extract relevant infromation from the data. \n",
    "\n",
    "Each line of the `dates.txt` file corresponds to a medical note. Each note has a date that needs to be extracted, but each date is encoded in one of many formats.\n",
    "\n",
    "The goal of this assignment is to correctly identify all of the different date variants encoded in this dataset and to properly normalize and sort the dates. \n",
    "\n",
    "Here is a list of some of the variants you might encounter in this dataset:\n",
    "* 04/20/2009; 04/20/09; 4/20/09; 4/3/09\n",
    "* Mar-20-2009; Mar 20, 2009; March 20, 2009;  Mar. 20, 2009; Mar 20 2009;\n",
    "* 20 Mar 2009; 20 March 2009; 20 Mar. 2009; 20 March, 2009\n",
    "* Mar 20th, 2009; Mar 21st, 2009; Mar 22nd, 2009\n",
    "* Feb 2009; Sep 2009; Oct 2010\n",
    "* 6/2008; 12/2009\n",
    "* 2009; 2010\n",
    "\n",
    "Once you have extracted these date patterns from the text, the next step is to sort them in ascending chronological order accoring to the following rules:\n",
    "* Assume all dates in xx/xx/xx format are mm/dd/yy\n",
    "* Assume all dates where year is encoded in only two digits are years from the 1900's (e.g. 1/5/89 is January 5th, 1989)\n",
    "* If the day is missing (e.g. 9/2009), assume it is the first day of the month (e.g. September 1, 2009).\n",
    "* If the month is missing (e.g. 2010), assume it is the first of January of that year (e.g. January 1, 2010).\n",
    "* Watch out for potential typos as this is a raw, real-life derived dataset.\n",
    "\n",
    "With these rules in mind, find the correct date in each note and return a pandas Series in chronological order of the original Series' indices. **This Series should be sorted by a tie-break sort in the format of (\"extracted date\", \"original row number\").**\n",
    "\n",
    "For example if the original series was this:\n",
    "\n",
    "    0    1999\n",
    "    1    2010\n",
    "    2    1978\n",
    "    3    2015\n",
    "    4    1985\n",
    "\n",
    "Your function should return this:\n",
    "\n",
    "    0    2\n",
    "    1    4\n",
    "    2    0\n",
    "    3    1\n",
    "    4    3\n",
    "\n",
    "Your score will be calculated using [Kendall's tau](https://en.wikipedia.org/wiki/Kendall_rank_correlation_coefficient), a correlation measure for ordinal data.\n",
    "\n",
    "*This function should return a Series of length 500 and dtype int.*"
   ]
  },
  {
   "cell_type": "code",
   "execution_count": 159,
   "metadata": {
    "deletable": false,
    "editable": false,
    "nbgrader": {
     "cell_type": "code",
     "checksum": "4b47ce38a503bfb1f113580f394d8667",
     "grade": false,
     "grade_id": "cell-28048f36edc32946",
     "locked": true,
     "schema_version": 3,
     "solution": false,
     "task": false
    }
   },
   "outputs": [
    {
     "data": {
      "text/plain": [
       "0         03/25/93 Total time of visit (in minutes):\\n\n",
       "1                       6/18/85 Primary Care Doctor:\\n\n",
       "2    sshe plans to move as of 7/8/71 In-Home Servic...\n",
       "3                7 on 9/27/75 Audit C Score Current:\\n\n",
       "4    2/6/96 sleep studyPain Treatment Pain Level (N...\n",
       "5                    .Per 7/06/79 Movement D/O note:\\n\n",
       "6    4, 5/18/78 Patient's thoughts about current su...\n",
       "7    10/24/89 CPT Code: 90801 - Psychiatric Diagnos...\n",
       "8                         3/7/86 SOS-10 Total Score:\\n\n",
       "9             (4/10/71)Score-1Audit C Score Current:\\n\n",
       "dtype: object"
      ]
     },
     "execution_count": 159,
     "metadata": {},
     "output_type": "execute_result"
    }
   ],
   "source": [
    "import pandas as pd\n",
    "\n",
    "doc = []\n",
    "with open('assets/dates.txt') as file:\n",
    "    for line in file:\n",
    "        doc.append(line)\n",
    "\n",
    "df = pd.Series(doc)\n",
    "df.head(10)"
   ]
  },
  {
   "cell_type": "code",
   "execution_count": 166,
   "metadata": {
    "deletable": false,
    "nbgrader": {
     "cell_type": "code",
     "checksum": "3e58e227860ae4b02d6bdddd81506787",
     "grade": false,
     "grade_id": "cell-d6f35a51303ed6ff",
     "locked": false,
     "schema_version": 3,
     "solution": true,
     "task": false
    }
   },
   "outputs": [],
   "source": [
    "def date_sorter():\n",
    "    # Your code here\n",
    "    order = None\n",
    "    df_ = df.copy()\n",
    "    # Create a dictionary to map abbreviated and misspelled month names to month numbers\n",
    "    month_dict = {\n",
    "        'Jan': '1', 'Feb': '2', 'Mar': '3', 'Apr': '4', 'May': '5', 'Jun': '6',\n",
    "        'Jul': '7', 'Aug': '8', 'Sep': '9', 'Oct': '10', 'Nov': '11', 'Dec': '12',\n",
    "        'January': '1', 'February': '2', 'March': '3', 'April': '4', 'June': '6', 'July': '7', 'August': '8',\n",
    "        'September': '9', 'October': '10', 'November': '11', 'December': '12', 'Decemeber': '12',\n",
    "        'Janaury': '1'  # Misspelling corrected\n",
    "    }\n",
    "\n",
    "    patterns = [\n",
    "        # Match dates in the format \"MM/DD/YYYY\" or \"MM-DD-YY\"\n",
    "        r'(?P<month>\\d{1,2})[/-](?P<day>\\d{1,2})[/-](?P<year>(?:\\d{4}|\\d{2}))\\b',\n",
    "\n",
    "        # Match full month names followed by day and four-digit year, with optional punctuation or spaces in between\n",
    "        r'(?P<month>(?:Jan|Feb|Mar|Apr|May|Jun|Jul|Aug|Sep|Oct|Nov|Dec)[a-z]*)(?:[\\-.,]? )(?P<day>\\d{2}[a-z]{0,2}),? (?P<year>\\d{4})',\n",
    "\n",
    "        # Match dates where the day precedes the month name and a four-digit year, separated by space and optional punctuation\n",
    "        r'(?P<day>\\d{2}) (?P<month>(?:Jan|Feb|Mar|Apr|May|Jun|Jul|Aug|Sep|Oct|Nov|Dec)[a-z]*)[(?:. )(?:, )](?P<year>\\d{4})',\n",
    "\n",
    "        # Match a single character (alpha-numeric) followed by a month name and optional comma, followed by a year\n",
    "        r'[A-Za-z0-9]{1}(?P<month>(?:Jan|Feb|Mar|Apr|May|Jun|Jul|Aug|Sep|Oct|Nov|Dec)[a-z]*),? (?P<year>\\d{4})',\n",
    "\n",
    "        # Match any character except a digit, followed by month name, optional punctuation, and a year\n",
    "        r'[^0-9],? (?P<month>(?:Jan|Feb|Mar|Apr|May|Jun|Jul|Aug|Sep|Oct|Nov|Dec)[a-z]*),? (?P<year>\\d{4})',\n",
    "\n",
    "        # Match a digit for the month followed by a slash or non-digit, then a four-digit year\n",
    "        r'[^/0-9](?P<month>\\d{1,2})/(?P<year>\\d{4})',\n",
    "\n",
    "        # Match month names at the start of the string followed by an optional comma and a year\n",
    "        r'^(?P<month>(?:Jan|Feb|Mar|Apr|May|Jun|Jul|Aug|Sep|Oct|Nov|Dec)[a-z]*),? (?P<year>\\d{4})',\n",
    "\n",
    "        # Match parentheses, period, or quotation followed by a month name, optional comma, and a year\n",
    "        r'[\\(\\.\"](?P<month>(?:Jan|Feb|Mar|Apr|May|Jun|Jul|Aug|Sep|Oct|Nov|Dec)[a-z]*),? (?P<year>\\d{4})',\n",
    "\n",
    "        # Match dates starting with month/day followed by a dash/slash and a four-digit year\n",
    "        r'^(?P<month>\\d{1,2})[/-](?P<year>\\d{4})',\n",
    "\n",
    "        # Match a non-alphanumeric character, a space, and a four-digit year, ensuring it's not preceded or followed by a digit\n",
    "        r'[^0-9a-z], (?P<year>\\d{4})[^0-9]', \n",
    "\n",
    "        # Match a four-digit year at the start of the string\n",
    "        r'^(?P<year>\\d{4})',\n",
    "\n",
    "        # Match a single character (alpha or punctuation), followed by a four-digit year\n",
    "        r'[A-Za-z\\.(~]{1}(?P<year>\\d{4})',\n",
    "\n",
    "        # Match the word 'Age', followed by an optional comma, a 1 or 2-digit number, a comma, and a four-digit year\n",
    "        r'Age,? \\d{1,2}, (?P<year>\\d{4})',\n",
    "\n",
    "        # Match a three-character string that does not start with a month name or certain other strings, followed by a year\n",
    "        r'(?!Jan|Feb|Mar|Apr|May|Jun|Jul|Aug|Sep|Oct|Nov|Dec|ury|ary|rch|ril|une|uly|ust|ber|\\d{3}$)[a-zA-Z:;]{3} (?P<year>\\d{4})',\n",
    "\n",
    "        # Match the word 'in' followed by a space and a four-digit year\n",
    "        r'[Ii]n (?P<year>\\d{4})',\n",
    "\n",
    "        # Match a space, a hyphen, a space, and a four-digit year\n",
    "        r' - (?P<year>\\d{4})',\n",
    "\n",
    "        # Match any three digits followed by a space and a four-digit year\n",
    "        r'\\d{3} (?P<year>\\d{4})'\n",
    "    ]\n",
    "\n",
    "\n",
    "    # Extract dates from each text using the regex patterns\n",
    "    dates = []\n",
    "    for idx, pattern in enumerate(patterns):\n",
    "        date = df_.str.extractall(pattern)\n",
    "        dates.append(date)\n",
    "\n",
    "    # Combine all the extracted dates into a single dataframe\n",
    "    dates_df = pd.concat(dates).sort_index()\n",
    "\n",
    "    # Fill missing day values with '1' and convert to string\n",
    "    dates_df['day'] = dates_df['day'].fillna(1)\n",
    "    dates_df['day'] = dates_df['day'].astype('int').astype('str')\n",
    "\n",
    "    # Fill missing month values with 'January' and replace with month numbers, convert to string\n",
    "    dates_df['month'] = dates_df['month'].fillna('January')\n",
    "    dates_df['month'].replace(month_dict, inplace=True)\n",
    "    dates_df['month'] = dates_df['month'].astype('int').astype('str')\n",
    "\n",
    "    # Adjust year values (prepend '19' for two-digit years), convert to int, filter out future years, convert back to string\n",
    "    dates_df['year'] = dates_df['year'].apply(lambda x: '19' + x if len(x) == 2 else x)\n",
    "    dates_df['year'] = dates_df['year'].astype('int')\n",
    "    dates_df = dates_df[dates_df['year'] <= 2023]\n",
    "    dates_df['year'] = dates_df['year'].astype('str')\n",
    "\n",
    "    # Remove the multi-index and assemble the full date string\n",
    "    extracted_df = dates_df.droplevel(level='match')\n",
    "    extracted_df['date'] = extracted_df['month'] + '/' + extracted_df['day'] + '/' + extracted_df['year']\n",
    "\n",
    "    # Convert the date string to datetime object and sort\n",
    "    times_df = pd.to_datetime(extracted_df['date'])\n",
    "    order = pd.Series(times_df.sort_values(kind='stable').index)\n",
    "    \n",
    " # Return the sorted series of indices\n",
    "    return order  # Your answer here\n",
    "    raise NotImplementedError()\n"
   ]
  },
  {
   "cell_type": "code",
   "execution_count": null,
   "metadata": {
    "deletable": false,
    "editable": false,
    "nbgrader": {
     "cell_type": "code",
     "checksum": "c0843c1f0ad2aaa45fa9ac4012f1aa43",
     "grade": true,
     "grade_id": "cell-373f878879c00996",
     "locked": true,
     "points": 4,
     "schema_version": 3,
     "solution": false,
     "task": false
    }
   },
   "outputs": [],
   "source": []
  },
  {
   "cell_type": "code",
   "execution_count": 167,
   "metadata": {},
   "outputs": [
    {
     "data": {
      "text/plain": [
       "0        9\n",
       "1       84\n",
       "2        2\n",
       "3       53\n",
       "4       28\n",
       "      ... \n",
       "495    427\n",
       "496    141\n",
       "497    186\n",
       "498    161\n",
       "499    413\n",
       "Length: 500, dtype: int64"
      ]
     },
     "execution_count": 167,
     "metadata": {},
     "output_type": "execute_result"
    }
   ],
   "source": [
    "date_sorter()\n",
    "\n"
   ]
  },
  {
   "cell_type": "code",
   "execution_count": null,
   "metadata": {
    "deletable": false,
    "editable": false,
    "nbgrader": {
     "cell_type": "code",
     "checksum": "0e2f5bb6bab79c07a81ec366c46c4d49",
     "grade": true,
     "grade_id": "cell-0ebae76e6cd794be",
     "locked": true,
     "points": 1,
     "schema_version": 3,
     "solution": false,
     "task": false
    }
   },
   "outputs": [],
   "source": []
  }
 ],
 "metadata": {
  "coursera": {
   "course_slug": "python-text-mining",
   "graded_item_id": "LvcWI",
   "launcher_item_id": "krne9",
   "part_id": "Mkp1I"
  },
  "kernelspec": {
   "display_name": "Python 3 (ipykernel)",
   "language": "python",
   "name": "python3"
  },
  "language_info": {
   "codemirror_mode": {
    "name": "ipython",
    "version": 3
   },
   "file_extension": ".py",
   "mimetype": "text/x-python",
   "name": "python",
   "nbconvert_exporter": "python",
   "pygments_lexer": "ipython3",
   "version": "3.9.13"
  },
  "vscode": {
   "interpreter": {
    "hash": "aee8b7b246df8f9039afb4144a1f6fd8d2ca17a180786b69acc140d282b71a49"
   }
  }
 },
 "nbformat": 4,
 "nbformat_minor": 4
}
